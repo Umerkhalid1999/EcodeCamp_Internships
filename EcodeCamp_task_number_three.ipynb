{
 "cells": [
  {
   "cell_type": "markdown",
   "metadata": {},
   "source": [
    "### **Deployed Model Link** : https://task-3.streamlit.app/"
   ]
  },
  {
   "cell_type": "markdown",
   "metadata": {},
   "source": [
    "### **Dependencies** \n",
    "- pandas \n",
    "- numpy \n",
    "- Normalization \n",
    "- Models \n",
    "- pickle \n",
    "- warnings ignorance"
   ]
  },
  {
   "cell_type": "code",
   "execution_count": 7,
   "metadata": {},
   "outputs": [],
   "source": [
    "import pandas as pd\n",
    "import numpy as np\n",
    "from sklearn.model_selection import train_test_split\n",
    "from sklearn.preprocessing import StandardScaler\n",
    "from sklearn.ensemble import RandomForestClassifier\n",
    "from sklearn.metrics import accuracy_score\n",
    "import pickle \n",
    "import warnings \n",
    "warnings.filterwarnings('ignore')"
   ]
  },
  {
   "cell_type": "markdown",
   "metadata": {},
   "source": [
    "### **Preprocessings** \n",
    "- Constructor \n",
    "- Load Data \n",
    "- Preprocess Data "
   ]
  },
  {
   "cell_type": "code",
   "execution_count": 8,
   "metadata": {},
   "outputs": [],
   "source": [
    "# Class for loading and preprocessing the data\n",
    "class TitanicData:\n",
    "    def __init__(self, file_path):\n",
    "        self.file_path = file_path\n",
    "        self.data = None\n",
    "        self.X = None\n",
    "        self.y = None\n",
    "\n",
    "    def load_data(self):\n",
    "        self.data = pd.read_csv(self.file_path)\n",
    "        return self.data\n",
    "\n",
    "    def preprocess_data(self):\n",
    "        # Dropping unnecessary columns and handling missing data\n",
    "        self.data['Age'].fillna(self.data['Age'].mean(), inplace=True)\n",
    "        self.data['Embarked'].fillna(self.data['Embarked'].mode()[0], inplace=True)\n",
    "        self.data['Fare'].fillna(self.data['Fare'].mean(), inplace=True)\n",
    "\n",
    "        self.data.drop(columns=['Cabin', 'Ticket', 'Name', 'PassengerId'], inplace=True)\n",
    "\n",
    "        # Encoding categorical variables\n",
    "        self.data = pd.get_dummies(self.data, columns=['Sex', 'Embarked'], drop_first=True)\n",
    "\n",
    "        # Defining features (X) and target (y)\n",
    "        self.X = self.data.drop('Survived', axis=1)\n",
    "        self.y = self.data['Survived']\n",
    "        \n",
    "        return self.X, self.y"
   ]
  },
  {
   "cell_type": "markdown",
   "metadata": {},
   "source": [
    "### **Model Training** \n",
    "- Constructor \n",
    "- Spliting X and Y \n",
    "- train the model \n",
    "- Evaluate the model"
   ]
  },
  {
   "cell_type": "code",
   "execution_count": 9,
   "metadata": {},
   "outputs": [],
   "source": [
    "# Class for model training and evaluation\n",
    "class TitanicModel:\n",
    "    def __init__(self):\n",
    "        self.model = None\n",
    "        self.scaler = StandardScaler()\n",
    "\n",
    "    def split_data(self, X, y, test_size=0.2, random_state=42):\n",
    "        X_train, X_test, y_train, y_test = train_test_split(X, y, test_size=test_size, random_state=random_state)\n",
    "        return X_train, X_test, y_train, y_test\n",
    "\n",
    "    def train_model(self, X_train, y_train):\n",
    "        # Scaling the features\n",
    "        X_train_scaled = self.scaler.fit_transform(X_train)\n",
    "        self.model = RandomForestClassifier(random_state=42)\n",
    "        self.model.fit(X_train_scaled, y_train)\n",
    "\n",
    "    def evaluate_model(self, X_test, y_test):\n",
    "        X_test_scaled = self.scaler.transform(X_test)\n",
    "        y_pred = self.model.predict(X_test_scaled)\n",
    "        accuracy = accuracy_score(y_test, y_pred)\n",
    "        return accuracy\n"
   ]
  },
  {
   "cell_type": "markdown",
   "metadata": {},
   "source": [
    "### **Model Saving** \n",
    "- Combine constructor \n",
    "- Model saving function() \n"
   ]
  },
  {
   "cell_type": "code",
   "execution_count": 10,
   "metadata": {},
   "outputs": [],
   "source": [
    "# Class for saving the model using pickle\n",
    "class ModelSaver:\n",
    "    def __init__(self, model, scaler, feature_names):\n",
    "        self.model = model\n",
    "        self.scaler = scaler\n",
    "        self.feature_names = feature_names\n",
    "\n",
    "    def save_model(self, model_path, scaler_path, feature_names_path):\n",
    "        with open(model_path, 'wb') as model_file:\n",
    "            pickle.dump(self.model, model_file)\n",
    "        with open(scaler_path, 'wb') as scaler_file:\n",
    "            pickle.dump(self.scaler, scaler_file)\n",
    "        with open(feature_names_path, 'wb') as feature_file:\n",
    "            pickle.dump(self.feature_names, feature_file)\n"
   ]
  },
  {
   "cell_type": "markdown",
   "metadata": {},
   "source": [
    "### **Main Parallel Working** \n",
    "- Load Dependencies \n",
    "- Train and evaluate the model \n",
    "- Save the model \n",
    "- Accuracy : 80.45% (Increaseable by Hyperparameter tuning)"
   ]
  },
  {
   "cell_type": "code",
   "execution_count": 11,
   "metadata": {},
   "outputs": [
    {
     "name": "stdout",
     "output_type": "stream",
     "text": [
      "Model Accuracy: 80.45%\n"
     ]
    }
   ],
   "source": [
    "# Main function to execute the workflow\n",
    "if __name__ == \"__main__\":\n",
    "    # Step 1: Load and preprocess data\n",
    "    titanic_data = TitanicData('titanic.csv')\n",
    "    titanic_data.load_data()\n",
    "    X, y = titanic_data.preprocess_data()\n",
    "\n",
    "    # Step 2: Train and evaluate the model\n",
    "    titanic_model = TitanicModel()\n",
    "    X_train, X_test, y_train, y_test = titanic_model.split_data(X, y)\n",
    "    titanic_model.train_model(X_train, y_train)\n",
    "    accuracy = titanic_model.evaluate_model(X_test, y_test)\n",
    "    print(f\"Model Accuracy: {accuracy * 100:.2f}%\")\n",
    "\n",
    "    # Step 3: Save the model, scaler, and feature names\n",
    "    model_saver = ModelSaver(titanic_model.model, titanic_model.scaler, X.columns.tolist())\n",
    "    model_saver.save_model('titanic_model.pkl', 'scaler.pkl', 'feature_names.pkl')\n"
   ]
  }
 ],
 "metadata": {
  "kernelspec": {
   "display_name": "umer_env",
   "language": "python",
   "name": "umer_env"
  },
  "language_info": {
   "codemirror_mode": {
    "name": "ipython",
    "version": 3
   },
   "file_extension": ".py",
   "mimetype": "text/x-python",
   "name": "python",
   "nbconvert_exporter": "python",
   "pygments_lexer": "ipython3",
   "version": "3.11.5"
  }
 },
 "nbformat": 4,
 "nbformat_minor": 2
}
